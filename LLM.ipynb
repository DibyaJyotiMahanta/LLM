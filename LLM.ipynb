{
 "cells": [
  {
   "cell_type": "code",
   "execution_count": 36,
   "id": "e66ca0c5-dccf-4a9a-b036-e7df5670730a",
   "metadata": {},
   "outputs": [],
   "source": [
    "import torch"
   ]
  },
  {
   "cell_type": "code",
   "execution_count": 37,
   "id": "9731e9ac-9dc3-4213-b24c-8639551577d8",
   "metadata": {},
   "outputs": [
    {
     "name": "stdout",
     "output_type": "stream",
     "text": [
      "['\\n', ' ', '!', '\"', '#', '&', \"'\", '(', ')', '*', ',', '-', '.', '0', '1', '2', '3', '4', '5', '6', '7', '8', '9', ':', ';', '?', 'A', 'B', 'C', 'D', 'E', 'F', 'G', 'H', 'I', 'J', 'K', 'L', 'M', 'N', 'O', 'P', 'Q', 'R', 'S', 'T', 'U', 'V', 'W', 'X', 'Y', 'Z', '[', ']', '_', 'a', 'b', 'c', 'd', 'e', 'f', 'g', 'h', 'i', 'j', 'k', 'l', 'm', 'n', 'o', 'p', 'q', 'r', 's', 't', 'u', 'v', 'w', 'x', 'y', 'z', '\\ufeff']\n"
     ]
    }
   ],
   "source": [
    "with open(\"Wizard_of_oz.txt\", 'r', encoding = 'utf-8') as f:\n",
    " text = f.read() \n",
    " chars = sorted(set(text))\n",
    " print (chars)"
   ]
  },
  {
   "cell_type": "code",
   "execution_count": 38,
   "id": "84d1c971-fb0b-40a4-aff4-10cf364d232c",
   "metadata": {},
   "outputs": [],
   "source": [
    "#making a encoder and decoder for the charater dictionary\n",
    "string_to_int = {ch:i for i, ch in enumerate(chars)}\n",
    "int_to_string = {i:ch for i, ch in enumerate(chars)}\n",
    "encode = lambda s: [string_to_int[c] for c in s]\n",
    "decode = lambda l: ''.join([int_to_string[i] for i in l])"
   ]
  },
  {
   "cell_type": "code",
   "execution_count": 39,
   "id": "daaa3a1b-bb81-492a-a691-d9b56962b9cd",
   "metadata": {},
   "outputs": [
    {
     "name": "stdin",
     "output_type": "stream",
     "text": [
      "Tell me what to decode? hello\n"
     ]
    },
    {
     "name": "stdout",
     "output_type": "stream",
     "text": [
      "the encoded message =  [62, 59, 66, 66, 69]  and the decoded message will be =  hello\n"
     ]
    }
   ],
   "source": [
    "secret = encode(input('Tell me what to decode?'))\n",
    "print('the encoded message = ',secret,' and the decoded message will be = ',decode(secret))"
   ]
  },
  {
   "cell_type": "code",
   "execution_count": null,
   "id": "57b0c463-3ca2-4a62-8faf-47cd57df4468",
   "metadata": {},
   "outputs": [],
   "source": []
  }
 ],
 "metadata": {
  "kernelspec": {
   "display_name": "'cuda-gpt'",
   "language": "python",
   "name": "cuda"
  },
  "language_info": {
   "codemirror_mode": {
    "name": "ipython",
    "version": 3
   },
   "file_extension": ".py",
   "mimetype": "text/x-python",
   "name": "python",
   "nbconvert_exporter": "python",
   "pygments_lexer": "ipython3",
   "version": "3.10.13"
  }
 },
 "nbformat": 4,
 "nbformat_minor": 5
}
